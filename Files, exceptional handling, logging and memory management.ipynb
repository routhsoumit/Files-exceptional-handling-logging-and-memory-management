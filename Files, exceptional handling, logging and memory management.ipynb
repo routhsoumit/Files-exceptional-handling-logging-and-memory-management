{
 "cells": [
  {
   "cell_type": "markdown",
   "id": "10ef7211",
   "metadata": {},
   "source": [
    "1. What is the difference between interpreted and compiled languages?\n",
    "Interpreted languages like Python are executed line by line by an interpreter, making them flexible and easy to debug, while compiled languages like C or Java are converted into machine code before execution, which makes them faster and more efficient but harder to modify quickly.\n",
    "\n",
    "2. What is exception handling in Python?\n",
    "Exception handling in Python is a way to manage runtime errors using try, except, else, and finally blocks so that the program can handle errors gracefully instead of crashing unexpectedly.\n",
    "\n",
    "3. What is the purpose of the finally block in exception handling?\n",
    "The finally block is used to define code that should always run, regardless of whether an exception occurred or not, typically for cleanup actions like closing files or releasing resources.\n",
    "\n",
    "4. What is logging in Python?\n",
    "Logging is a method for recording messages about a program’s execution. Python's logging module helps track events, errors, or information during runtime without interrupting the program flow, unlike print statements.\n",
    "\n",
    "5. What is the significance of the __del__ method in Python?\n",
    "The __del__ method is a special destructor method that gets called automatically when an object is about to be destroyed, allowing you to release resources or perform final cleanup tasks.\n",
    "\n",
    "6. What is the difference between import and from ... import in Python?\n",
    "import module brings the entire module into your program, while from module import name imports specific components, allowing more concise and targeted use of modules.\n",
    "\n",
    "7. How can you handle multiple exceptions in Python?\n",
    "Multiple exceptions can be handled by writing multiple except blocks for different error types or by grouping exception types in a single except using a tuple.\n",
    "\n",
    "8. What is the purpose of the with statement when handling files in Python?\n",
    "The with statement simplifies file handling by automatically opening and closing files, even if exceptions occur, ensuring proper resource management.\n",
    "\n",
    "9. What is the difference between multithreading and multiprocessing?\n",
    "Multithreading runs multiple threads within the same process and is ideal for I/O-bound tasks, while multiprocessing uses separate processes for parallel execution, making it better suited for CPU-bound operations.\n",
    "\n",
    "10. What are the advantages of using logging in a program?\n",
    "Logging provides structured tracking of events and errors, helps in debugging, auditing, and maintaining the software, and allows you to control the level of information recorded using different logging levels.\n",
    "\n",
    "11. What is memory management in Python?\n",
    "Memory management in Python is handled automatically using reference counting and a garbage collector, which tracks and frees unused memory to ensure efficient performance.\n",
    "\n",
    "12. What are the basic steps involved in exception handling in Python?\n",
    "The main steps are: use a try block to wrap risky code, handle exceptions using except, optionally run code in else if no exception occurred, and always run cleanup code in finally.\n",
    "\n",
    "13. Why is memory management important in Python?\n",
    "Proper memory management ensures that programs run efficiently without exhausting system resources, avoids memory leaks, and improves overall performance and stability.\n",
    "\n",
    "14. What is the role of try and except in exception handling?\n",
    "The try block contains code that might raise an error, while the except block defines how to respond to specific exceptions, preventing the program from crashing unexpectedly.\n",
    "\n",
    "15. How does Python's garbage collection system work?\n",
    "Python uses reference counting and a cyclic garbage collector to automatically identify and delete unused objects, freeing memory and preventing leaks.\n",
    "\n",
    "16. What is the purpose of the else block in exception handling?\n",
    "The else block runs only when no exception occurs in the try block, allowing you to keep normal execution logic separate from error handling.\n",
    "\n",
    "17. What are the common logging levels in Python?\n",
    "Common logging levels in increasing order of severity are: DEBUG, INFO, WARNING, ERROR, and CRITICAL, helping you filter log messages based on importance.\n",
    "\n",
    "18. What is the difference between os.fork() and multiprocessing in Python?\n",
    "os.fork() is a Unix-only system call that creates a child process, while multiprocessing is a cross-platform Python module that allows parallel execution with better safety and flexibility.\n",
    "\n",
    "19. What is the importance of closing a file in Python?\n",
    "Closing a file releases system resources, ensures data is written correctly, and prevents file corruption or memory leaks.\n",
    "\n",
    "20. What is the difference between file.read() and file.readline() in Python?\n",
    "file.read() reads the entire file content as a single string, while file.readline() reads one line at a time, making it more memory-efficient for large files.\n",
    "\n",
    "21. What is the logging module in Python used for?\n",
    "The logging module is used to generate log messages that help developers track program execution, errors, and behavior during runtime for debugging and monitoring.\n",
    "\n",
    "22. What is the os module in Python used for in file handling?\n",
    "The os module helps interact with the operating system and perform file operations such as creating, deleting, renaming files or directories, and navigating file paths.\n",
    "\n",
    "23. What are the challenges associated with memory management in Python?\n",
    "Challenges include dealing with cyclic references, managing memory in long-running programs, and ensuring timely cleanup of large or complex objects.\n",
    "\n",
    "24. How do you raise an exception manually in Python?\n",
    "You can manually raise an exception using the raise keyword followed by an exception type, e.g., raise ValueError(\"Invalid input\").\n",
    "\n",
    "25. Why is it important to use multithreading in certain applications?\n",
    "Multithreading allows concurrent execution of tasks, improving performance in I/O-bound or GUI applications by keeping the interface responsive and reducing wait times.\n"
   ]
  },
  {
   "cell_type": "code",
   "execution_count": 1,
   "id": "48f74c83",
   "metadata": {},
   "outputs": [],
   "source": [
    "#1.How can you open a file for writing in Python and write a string to it\n",
    "with open(\"example.txt\", \"w\") as file:\n",
    "    file.write(\"Hello, world!\")\n"
   ]
  },
  {
   "cell_type": "code",
   "execution_count": 2,
   "id": "4ce2c383",
   "metadata": {},
   "outputs": [
    {
     "name": "stdout",
     "output_type": "stream",
     "text": [
      "Hello, world!\n"
     ]
    }
   ],
   "source": [
    "#2. Write a Python program to read the contents of a file and print each line\n",
    "with open(\"example.txt\", \"r\") as file:\n",
    "    for line in file:\n",
    "        print(line.strip())\n"
   ]
  },
  {
   "cell_type": "code",
   "execution_count": 3,
   "id": "32bd450f",
   "metadata": {},
   "outputs": [
    {
     "name": "stdout",
     "output_type": "stream",
     "text": [
      "File not found!\n"
     ]
    }
   ],
   "source": [
    "#3.How would you handle a case where the file doesn't exist while trying to open it for reading\n",
    "try:\n",
    "    with open(\"missing.txt\", \"r\") as f:\n",
    "        print(f.read())\n",
    "except FileNotFoundError:\n",
    "    print(\"File not found!\")\n"
   ]
  },
  {
   "cell_type": "code",
   "execution_count": null,
   "id": "f2c51f5f",
   "metadata": {},
   "outputs": [],
   "source": [
    "#4.Write a Python script that reads from one file and writes its content to another file\n",
    "with open(\"source.txt\", \"r\") as src, open(\"dest.txt\", \"w\") as dest:\n",
    "    dest.write(src.read())\n"
   ]
  },
  {
   "cell_type": "code",
   "execution_count": 6,
   "id": "4b1ed1a1",
   "metadata": {},
   "outputs": [
    {
     "name": "stdout",
     "output_type": "stream",
     "text": [
      "Cannot divide by zero!\n"
     ]
    }
   ],
   "source": [
    "#5.How would you catch and handle division by zero error in Python?\n",
    "try:\n",
    "    result = 10 / 0\n",
    "except ZeroDivisionError:\n",
    "    print(\"Cannot divide by zero!\")\n"
   ]
  },
  {
   "cell_type": "code",
   "execution_count": 7,
   "id": "a8bbbd69",
   "metadata": {},
   "outputs": [],
   "source": [
    "#6.Write a Python program that logs an error message to a log file when a division by zero exception occurs.\n",
    "import logging  \n",
    "logging.basicConfig(filename=\"error.log\", level=logging.ERROR)\n",
    "\n",
    "try:\n",
    "    x = 10 / 0\n",
    "except ZeroDivisionError:\n",
    "    logging.error(\"Division by zero occurred.\")\n"
   ]
  },
  {
   "cell_type": "code",
   "execution_count": 8,
   "id": "6b39700e",
   "metadata": {},
   "outputs": [],
   "source": [
    "#7.How do you log information at different levels (INFO, ERROR, WARNING) in Python using the logging module?\n",
    "import logging  \n",
    "logging.basicConfig(level=logging.DEBUG)  \n",
    "logging.info(\"Info message\")  \n",
    "logging.warning(\"Warning message\")  \n",
    "logging.error(\"Error message\")\n"
   ]
  },
  {
   "cell_type": "code",
   "execution_count": 10,
   "id": "e8740cbd",
   "metadata": {},
   "outputs": [
    {
     "name": "stdout",
     "output_type": "stream",
     "text": [
      "Failed to open the file.\n"
     ]
    }
   ],
   "source": [
    "#8. Write a program to handle a file opening error using exception handling.\n",
    "try:\n",
    "    with open(\"data.txt\", \"r\") as f:\n",
    "        print(f.read())\n",
    "except IOError:\n",
    "    print(\"Failed to open the file.\")\n"
   ]
  },
  {
   "cell_type": "code",
   "execution_count": null,
   "id": "b6bf3100",
   "metadata": {},
   "outputs": [],
   "source": [
    "#9.How can you read a file line by line and store its content in a list in Python?\n",
    "with open(\"file.txt\", \"r\") as f:\n",
    "    lines = f.readlines()\n"
   ]
  },
  {
   "cell_type": "code",
   "execution_count": 11,
   "id": "7411ae01",
   "metadata": {},
   "outputs": [],
   "source": [
    "#10.How can you append data to an existing file in Python?\n",
    "with open(\"file.txt\", \"a\") as f:\n",
    "    f.write(\"New line\\n\")\n"
   ]
  },
  {
   "cell_type": "code",
   "execution_count": 12,
   "id": "2e8e4030",
   "metadata": {},
   "outputs": [
    {
     "name": "stdout",
     "output_type": "stream",
     "text": [
      "Key not found!\n"
     ]
    }
   ],
   "source": [
    "#11.Write a Python program that uses a try-except block to handle an error when attempting to access a dictionary key that doesn't exist.\n",
    "data = {\"name\": \"Alice\"}\n",
    "try:\n",
    "    print(data[\"age\"])\n",
    "except KeyError:\n",
    "    print(\"Key not found!\")\n"
   ]
  },
  {
   "cell_type": "code",
   "execution_count": 14,
   "id": "200c467e",
   "metadata": {},
   "outputs": [
    {
     "name": "stdout",
     "output_type": "stream",
     "text": [
      "Invalid input!\n"
     ]
    }
   ],
   "source": [
    "#12.Write a program that demonstrates using multiple except blocks to handle different types of exceptions.\n",
    "try:\n",
    "    num = int(\"abc\")\n",
    "    print(10 / 0)\n",
    "except ValueError:\n",
    "    print(\"Invalid input!\")\n",
    "except ZeroDivisionError:\n",
    "    print(\"Division by zero!\")\n"
   ]
  },
  {
   "cell_type": "code",
   "execution_count": 15,
   "id": "4640e81e",
   "metadata": {},
   "outputs": [
    {
     "name": "stdout",
     "output_type": "stream",
     "text": [
      "New line\n",
      "\n"
     ]
    }
   ],
   "source": [
    "#13. How would you check if a file exists before attempting to read it in Python?\n",
    "import os  \n",
    "if os.path.exists(\"file.txt\"):\n",
    "    with open(\"file.txt\") as f:\n",
    "        print(f.read())\n",
    "else:\n",
    "    print(\"File does not exist.\")\n"
   ]
  },
  {
   "cell_type": "code",
   "execution_count": 16,
   "id": "509cbe59",
   "metadata": {},
   "outputs": [],
   "source": [
    "#14. Write a program that uses the logging module to log both informational and error messages.\n",
    "import logging  \n",
    "logging.basicConfig(filename=\"logfile.log\", level=logging.INFO)\n",
    "logging.info(\"Program started\")\n",
    "try:\n",
    "    1 / 0\n",
    "except ZeroDivisionError:\n",
    "    logging.error(\"Division by zero\")"
   ]
  },
  {
   "cell_type": "code",
   "execution_count": 17,
   "id": "93e7e46a",
   "metadata": {},
   "outputs": [
    {
     "name": "stdout",
     "output_type": "stream",
     "text": [
      "New line\n",
      "\n"
     ]
    }
   ],
   "source": [
    "#15. Write a Python program that prints the content of a file and handles the case when the file is empty.\n",
    "with open(\"file.txt\", \"r\") as f:\n",
    "    content = f.read()\n",
    "    if not content:\n",
    "        print(\"The file is empty.\")\n",
    "    else:\n",
    "        print(content)\n"
   ]
  },
  {
   "cell_type": "code",
   "execution_count": null,
   "id": "31bb1720",
   "metadata": {},
   "outputs": [],
   "source": [
    "#16.Demonstrate how to use memory profiling to check the memory usage of a small program.\n",
    "\n",
    "from memory_profiler import profile  \n",
    "@profile  \n",
    "def test():  \n",
    "    a = [i for i in range(10000)]  \n",
    "    return a  \n",
    "\n",
    "test()\n",
    "\n"
   ]
  },
  {
   "cell_type": "code",
   "execution_count": 20,
   "id": "4a27ccda",
   "metadata": {},
   "outputs": [],
   "source": [
    "#17.Write a Python program to create and write a list of numbers to a file, one number per line.\n",
    "numbers = [1, 2, 3, 4, 5]  \n",
    "with open(\"numbers.txt\", \"w\") as f:  \n",
    "    for number in numbers:  \n",
    "        f.write(f\"{number}\\n\")\n"
   ]
  },
  {
   "cell_type": "code",
   "execution_count": 21,
   "id": "2203b5a5",
   "metadata": {},
   "outputs": [],
   "source": [
    "#18. How would you implement a basic logging setup that logs to a file with rotation after 1MB?\n",
    "import logging  \n",
    "from logging.handlers import RotatingFileHandler  \n",
    "\n",
    "handler = RotatingFileHandler(\"app.log\", maxBytes=1024*1024, backupCount=3)  \n",
    "logging.basicConfig(handlers=[handler], level=logging.INFO)  \n",
    "logging.info(\"Logging with rotation.\")\n"
   ]
  },
  {
   "cell_type": "code",
   "execution_count": 22,
   "id": "2679c9d6",
   "metadata": {},
   "outputs": [
    {
     "name": "stdout",
     "output_type": "stream",
     "text": [
      "List index out of range.\n"
     ]
    }
   ],
   "source": [
    "#19. Write a program that handles both IndexError and KeyError using a try-except block.\n",
    "try:\n",
    "    lst = [1, 2]\n",
    "    print(lst[5])\n",
    "    d = {\"a\": 1}\n",
    "    print(d[\"b\"])\n",
    "except IndexError:\n",
    "    print(\"List index out of range.\")\n",
    "except KeyError:\n",
    "    print(\"Dictionary key not found.\")\n"
   ]
  },
  {
   "cell_type": "code",
   "execution_count": 23,
   "id": "2a6aece9",
   "metadata": {},
   "outputs": [
    {
     "name": "stdout",
     "output_type": "stream",
     "text": [
      "New line\n",
      "\n"
     ]
    }
   ],
   "source": [
    "#20. How would you open a file and read its contents using a context manager in Python?\n",
    "\n",
    "with open(\"file.txt\", \"r\") as f:\n",
    "    content = f.read()\n",
    "    print(content)\n"
   ]
  },
  {
   "cell_type": "code",
   "execution_count": 24,
   "id": "ecbab73b",
   "metadata": {},
   "outputs": [
    {
     "name": "stdout",
     "output_type": "stream",
     "text": [
      "'Python' found 0 times.\n"
     ]
    }
   ],
   "source": [
    "#21. Write a Python program that reads a file and prints the number of occurrences of a specific word.\n",
    "word = \"Python\"  \n",
    "count = 0  \n",
    "with open(\"file.txt\", \"r\") as f:  \n",
    "    for line in f:  \n",
    "        count += line.count(word)  \n",
    "print(f\"'{word}' found {count} times.\")\n"
   ]
  },
  {
   "cell_type": "code",
   "execution_count": 25,
   "id": "44de48f2",
   "metadata": {},
   "outputs": [
    {
     "name": "stdout",
     "output_type": "stream",
     "text": [
      "New line\n",
      "\n"
     ]
    }
   ],
   "source": [
    "#22. How can you check if a file is empty before attempting to read its contents?\n",
    "import os  \n",
    "if os.path.getsize(\"file.txt\") == 0:  \n",
    "    print(\"File is empty.\")  \n",
    "else:  \n",
    "    with open(\"file.txt\") as f:  \n",
    "        print(f.read())\n"
   ]
  },
  {
   "cell_type": "code",
   "execution_count": 26,
   "id": "c9960071",
   "metadata": {},
   "outputs": [],
   "source": [
    "#23. Write a Python program that writes to a log file when an error occurs during file handling.\n",
    "\n",
    "import logging  \n",
    "logging.basicConfig(filename=\"file_error.log\", level=logging.ERROR)  \n",
    "\n",
    "try:  \n",
    "    with open(\"missing.txt\", \"r\") as f:  \n",
    "        print(f.read())  \n",
    "except FileNotFoundError as e:  \n",
    "    logging.error(f\"File error: {e}\")\n"
   ]
  }
 ],
 "metadata": {
  "kernelspec": {
   "display_name": "Python 3 (ipykernel)",
   "language": "python",
   "name": "python3"
  },
  "language_info": {
   "codemirror_mode": {
    "name": "ipython",
    "version": 3
   },
   "file_extension": ".py",
   "mimetype": "text/x-python",
   "name": "python",
   "nbconvert_exporter": "python",
   "pygments_lexer": "ipython3",
   "version": "3.11.3"
  }
 },
 "nbformat": 4,
 "nbformat_minor": 5
}
